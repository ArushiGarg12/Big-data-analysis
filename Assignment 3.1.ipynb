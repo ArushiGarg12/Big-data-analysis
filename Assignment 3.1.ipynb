{
 "cells": [
  {
   "cell_type": "code",
   "execution_count": 1,
   "id": "39276f1a-e238-4daf-b5e5-f171e3875c90",
   "metadata": {},
   "outputs": [
    {
     "name": "stdout",
     "output_type": "stream",
     "text": [
      "2.2.0\n"
     ]
    },
    {
     "name": "stderr",
     "output_type": "stream",
     "text": [
      "C:\\Users\\HP\\AppData\\Local\\Temp\\ipykernel_1752\\1804728916.py:1: DeprecationWarning: \n",
      "Pyarrow will become a required dependency of pandas in the next major release of pandas (pandas 3.0),\n",
      "(to allow more performant data types, such as the Arrow string type, and better interoperability with other libraries)\n",
      "but was not found to be installed on your system.\n",
      "If this would cause problems for you,\n",
      "please provide us feedback at https://github.com/pandas-dev/pandas/issues/54466\n",
      "        \n",
      "  import pandas as pd\n"
     ]
    }
   ],
   "source": [
    "import pandas as pd\n",
    "print(pd.__version__)"
   ]
  },
  {
   "cell_type": "code",
   "execution_count": 3,
   "id": "14cba8f9-2854-4304-8385-efaf7e9d4f5d",
   "metadata": {},
   "outputs": [
    {
     "name": "stdout",
     "output_type": "stream",
     "text": [
      "   Tid Refund Marital status Taxable Income Cheat\n",
      "0    1    YES         Single           125K    No\n",
      "1    2     NO        Married           100K    NO\n",
      "2    3     NO         Single            70K    NO\n",
      "3    4    YES        Married           120K    NO\n",
      "4    5     NO       Divorced            95K   YES\n",
      "5    6     NO        Married            60K    NO\n",
      "6    7    YES       Divorced           220K    NO\n",
      "7    8     NO         Single            85K   YES\n",
      "8    9     NO        Married            75K    NO\n",
      "9   10     NO         Single            90K   YES\n"
     ]
    }
   ],
   "source": [
    "import pandas as pd\n",
    "\n",
    "data={\n",
    "    \"Tid\" :[1,2,3,4,5,6,7,8,9,10],\n",
    "    \"Refund\" :[\"YES\", \"NO\", \"NO\", \"YES\", \"NO\", \"NO\", \"YES\", \"NO\", \"NO\", \"NO\"],\n",
    "    \"Marital status\":[\"Single\", \"Married\", \"Single\", \"Married\", \"Divorced\", \"Married\", \"Divorced\", \"Single\", \"Married\", \"Single\"],\n",
    "    \"Taxable Income\":[ \"125K\", \"100K\", \"70K\", \"120K\", \"95K\", \"60K\", \"220K\", \"85K\", \"75K\",\"90K\"],\n",
    "    \"Cheat\":[\"No\", \"NO\", \"NO\", \"NO\",\"YES\", \"NO\", \"NO\", \"YES\",\"NO\", \"YES\"]\n",
    "    }\n",
    "ans= pd.DataFrame(data)\n",
    "print(ans)"
   ]
  },
  {
   "cell_type": "code",
   "execution_count": 5,
   "id": "f31d6a3d-7e31-43db-8539-42d9e530a159",
   "metadata": {},
   "outputs": [
    {
     "name": "stdout",
     "output_type": "stream",
     "text": [
      "   Tid Refund Marital status Taxable Income Cheat\n",
      "0    1    YES         Single           125K    No\n",
      "4    5     NO       Divorced            95K   YES\n",
      "7    8     NO         Single            85K   YES\n",
      "8    9     NO        Married            75K    NO\n"
     ]
    }
   ],
   "source": [
    "print(ans.loc[[0,4,7,8]])"
   ]
  },
  {
   "cell_type": "code",
   "execution_count": 6,
   "id": "927f9f97-a9a2-4d81-a104-572e79b59f20",
   "metadata": {},
   "outputs": [
    {
     "data": {
      "text/plain": [
       "{'Tid': [1, 2, 3, 4, 5, 6, 7, 8, 9, 10],\n",
       " 'Refund': ['YES', 'NO', 'NO', 'YES', 'NO', 'NO', 'YES', 'NO', 'NO', 'NO'],\n",
       " 'Marital status': ['Single',\n",
       "  'Married',\n",
       "  'Single',\n",
       "  'Married',\n",
       "  'Divorced',\n",
       "  'Married',\n",
       "  'Divorced',\n",
       "  'Single',\n",
       "  'Married',\n",
       "  'Single'],\n",
       " 'Taxable Income': ['125K',\n",
       "  '100K',\n",
       "  '70K',\n",
       "  '120K',\n",
       "  '95K',\n",
       "  '60K',\n",
       "  '220K',\n",
       "  '85K',\n",
       "  '75K',\n",
       "  '90K'],\n",
       " 'Cheat': ['No', 'NO', 'NO', 'NO', 'YES', 'NO', 'NO', 'YES', 'NO', 'YES']}"
      ]
     },
     "execution_count": 6,
     "metadata": {},
     "output_type": "execute_result"
    }
   ],
   "source": [
    "import pandas as pd\n",
    "\n",
    "data={\n",
    "    \"Tid\" :[1,2,3,4,5,6,7,8,9,10],\n",
    "    \"Refund\" :[\"YES\", \"NO\", \"NO\", \"YES\", \"NO\", \"NO\", \"YES\", \"NO\", \"NO\", \"NO\"],\n",
    "    \"Marital status\":[\"Single\", \"Married\", \"Single\", \"Married\", \"Divorced\", \"Married\", \"Divorced\", \"Single\", \"Married\", \"Single\"],\n",
    "    \"Taxable Income\":[ \"125K\", \"100K\", \"70K\", \"120K\", \"95K\", \"60K\", \"220K\", \"85K\", \"75K\",\"90K\"],\n",
    "    \"Cheat\":[\"No\", \"NO\", \"NO\", \"NO\",\"YES\", \"NO\", \"NO\", \"YES\",\"NO\", \"YES\"]\n",
    "    }\n",
    "data"
   ]
  },
  {
   "cell_type": "code",
   "execution_count": null,
   "id": "f68bf6cd-db3a-47ac-b629-2505a2606ddc",
   "metadata": {},
   "outputs": [],
   "source": []
  }
 ],
 "metadata": {
  "kernelspec": {
   "display_name": "Python 3 (ipykernel)",
   "language": "python",
   "name": "python3"
  },
  "language_info": {
   "codemirror_mode": {
    "name": "ipython",
    "version": 3
   },
   "file_extension": ".py",
   "mimetype": "text/x-python",
   "name": "python",
   "nbconvert_exporter": "python",
   "pygments_lexer": "ipython3",
   "version": "3.12.2"
  }
 },
 "nbformat": 4,
 "nbformat_minor": 5
}
